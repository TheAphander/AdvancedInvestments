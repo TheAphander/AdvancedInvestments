{
 "cells": [
  {
   "cell_type": "markdown",
   "metadata": {},
   "source": [
    "# Farma MacBeth Regression\n",
    "## 5 Portfolios Formed on Size and Operating Profitability (5 x 5)\n",
    "### First Stage Farma MacBeth Regression"
   ]
  },
  {
   "cell_type": "code",
   "execution_count": 2,
   "metadata": {},
   "outputs": [],
   "source": [
    "# Importing all datasets needed. They were pre-cleaned in excel. No missing values\n",
    "import pandas as pd\n",
    "import numpy as np\n",
    "from sklearn.linear_model import LinearRegression\n",
    "ME_OP = pd.read_excel(\"ME OP Average Value Weighted Returns -- Monthly.xlsx\", index_col=0)\n",
    "ME_INV = pd.read_excel(\"ME INV Average Value Weighted Returns.xlsx\", index_col=0)\n",
    "three_factors_data = pd.read_csv(\"F-F_Research_Data_3_Factors.CSV\", index_col=0)\n",
    "five_factors_data = pd.read_csv(\"F-F_Research_Data_5_Factors.csv\", index_col=0)"
   ]
  },
  {
   "cell_type": "code",
   "execution_count": 3,
   "metadata": {},
   "outputs": [
    {
     "name": "stdout",
     "output_type": "stream",
     "text": [
      "[1.275576   1.05471862 1.03645332 1.08169891 1.27445166 1.34061284\n",
      " 1.12337764 1.0388495  1.11376125 1.24644727 1.28415896 1.04203872\n",
      " 1.0343522  1.09206004 1.19565643 1.22105619 1.06943625 1.01097371\n",
      " 1.0465677  1.11299183 1.10177177 0.96620794 0.94084475 0.94387948\n",
      " 0.92692022]\n"
     ]
    }
   ],
   "source": [
    "ME_OP_CAPM = []\n",
    "number = 0\n",
    "while number < 25:\n",
    "    y = ME_OP.to_numpy()[:,number]-three_factors_data.to_numpy()[:,3]\n",
    "    X = three_factors_data.to_numpy()[:,0]\n",
    "    X = X.reshape(-1, 1)\n",
    "    reg = LinearRegression().fit(X, y)\n",
    "    ME_OP_CAPM.append(reg.coef_[0])\n",
    "    number += 1\n",
    "\n",
    "ME_OP_CAPM = np.array(ME_OP_CAPM)\n",
    "print(ME_OP_CAPM)"
   ]
  },
  {
   "cell_type": "code",
   "execution_count": 4,
   "metadata": {},
   "outputs": [
    {
     "name": "stdout",
     "output_type": "stream",
     "text": [
      "[1.00224965 0.90575712 0.91990352 0.94283624 1.10406333 1.12269539\n",
      " 1.01245006 0.94132326 1.00721832 1.12335561 1.1137055  0.97488012\n",
      " 0.97927727 1.04204082 1.11124635 1.1170042  1.04188086 1.00782754\n",
      " 1.05226086 1.05502418 1.1188211  1.02157642 1.00448459 0.98167824\n",
      " 0.95238945]\n",
      "[ 1.4161852   1.03765332  0.90421077  1.0218008   1.07674798  1.07031774\n",
      "  0.79461426  0.7453253   0.768313    0.81041472  0.80599894  0.54725754\n",
      "  0.48698186  0.46376443  0.55979247  0.50333638  0.29961746  0.20177298\n",
      "  0.13861984  0.33368082 -0.05097243 -0.13938171 -0.23109337 -0.2254934\n",
      " -0.23776661]\n",
      "[ 0.09898842  0.4444059   0.48332877  0.4943184   0.34652573 -0.00740931\n",
      "  0.36310615  0.38784466  0.35625548  0.29814831 -0.05161511  0.31703235\n",
      "  0.31608337  0.31862595  0.21040474 -0.01488073  0.24034888  0.2735553\n",
      "  0.24486499  0.06995254  0.0487064   0.19658998  0.12183709 -0.0572336\n",
      " -0.16462448]\n"
     ]
    }
   ],
   "source": [
    "ME_OP_MKT_RF_3_factor = []\n",
    "ME_OP_SMB_3_factor = []\n",
    "ME_OP_HML_3_factor = []\n",
    "\n",
    "number = 0\n",
    "while number < 25:\n",
    "    y = ME_OP.to_numpy()[:,number]-three_factors_data.to_numpy()[:,3]\n",
    "    X = np.array([three_factors_data.to_numpy()[:,0],three_factors_data.to_numpy()[:,1], three_factors_data.to_numpy()[:,2]]).T\n",
    "    reg = LinearRegression().fit(X, y)\n",
    "    ME_OP_MKT_RF_3_factor.append(reg.coef_[0])\n",
    "    ME_OP_SMB_3_factor.append(reg.coef_[1])\n",
    "    ME_OP_HML_3_factor.append(reg.coef_[2])\n",
    "    number += 1\n",
    "\n",
    "ME_OP_MKT_RF_3_factor = np.array(ME_OP_MKT_RF_3_factor)\n",
    "ME_OP_SMB_3_factor = np.array(ME_OP_SMB_3_factor)\n",
    "ME_OP_HML_3_factor = np.array(ME_OP_HML_3_factor)\n",
    "print(ME_OP_MKT_RF_3_factor)\n",
    "print(ME_OP_SMB_3_factor)\n",
    "print(ME_OP_HML_3_factor)"
   ]
  },
  {
   "cell_type": "code",
   "execution_count": 5,
   "metadata": {},
   "outputs": [
    {
     "name": "stdout",
     "output_type": "stream",
     "text": [
      "[0.97634525 0.89501092 0.92046786 0.97821426 1.09103869 1.09340493\n",
      " 1.01112934 0.9398124  1.000131   1.11262118 1.06792417 0.97414959\n",
      " 0.9755897  1.04240916 1.10672838 1.07776874 1.03831218 1.01028071\n",
      " 1.06887306 1.0591457  1.06330813 1.02388206 1.0071346  0.98293265\n",
      " 0.96841109]\n",
      "[ 1.25010812  1.08333279  0.98986644  1.12733109  1.19289706  0.91486256\n",
      "  0.84095182  0.81780331  0.88239574  0.9828252   0.58657653  0.57029606\n",
      "  0.54617271  0.57983176  0.72428796  0.28136772  0.2513878   0.25548741\n",
      "  0.25318399  0.43958394 -0.28684446 -0.21203034 -0.25239731 -0.1969394\n",
      " -0.14254038]\n",
      "[-0.13782579  0.28502004  0.31450201  0.17064722  0.20368885 -0.16589051\n",
      "  0.20694703  0.25400352  0.25524124  0.207305   -0.08955821  0.20339563\n",
      "  0.23763119  0.24113635  0.14850351 -0.01327421  0.17402764  0.22569568\n",
      "  0.16539424  0.00301555  0.23485936  0.18975841  0.14415526 -0.00355569\n",
      " -0.15500192]\n",
      "[-0.62618151  0.13503953  0.27471032  0.36952835  0.36845056 -0.6137808\n",
      "  0.11750019  0.22259919  0.37687196  0.54300577 -0.78824112  0.04099836\n",
      "  0.17019813  0.36207952  0.53550034 -0.77678263 -0.19252434  0.1521415\n",
      "  0.35910634  0.33510055 -0.79744038 -0.27058033 -0.09658611  0.1175519\n",
      "  0.34099733]\n",
      "[ 0.10464327 -0.02459585  0.02784632  0.32636779 -0.10373262  0.0479523\n",
      "  0.05588226  0.01101397 -0.08926053 -0.14796732 -0.10894273  0.05665392\n",
      " -0.01662514 -0.03326047 -0.12286575 -0.09157556  0.06542226  0.01763686\n",
      "  0.08721969 -0.00747138 -0.30903814  0.09615655  0.04219159 -0.05456571\n",
      "  0.02304828]\n"
     ]
    }
   ],
   "source": [
    "ME_OP_MKT_RF_5_factor = []\n",
    "ME_OP_SMB_5_factor = []\n",
    "ME_OP_HML_5_factor = []\n",
    "ME_OP_RMW_5_factor = []\n",
    "ME_OP_CMA_5_factor = []\n",
    "\n",
    "\n",
    "number = 0\n",
    "while number < 25:\n",
    "    y = ME_OP.to_numpy()[:,number]-five_factors_data.to_numpy()[:,5]\n",
    "    X = np.array([five_factors_data.to_numpy()[:,0],five_factors_data.to_numpy()[:,1], five_factors_data.to_numpy()[:,2], five_factors_data.to_numpy()[:,3], five_factors_data.to_numpy()[:,4]]).T\n",
    "    reg = LinearRegression().fit(X, y)\n",
    "    ME_OP_MKT_RF_5_factor.append(reg.coef_[0])\n",
    "    ME_OP_SMB_5_factor.append(reg.coef_[1])\n",
    "    ME_OP_HML_5_factor.append(reg.coef_[2])\n",
    "    ME_OP_RMW_5_factor.append(reg.coef_[3])\n",
    "    ME_OP_CMA_5_factor.append(reg.coef_[4])\n",
    "    number += 1\n",
    "\n",
    "ME_OP_MKT_RF_5_factor = np.array(ME_OP_MKT_RF_5_factor)\n",
    "ME_OP_SMB_5_factor = np.array(ME_OP_SMB_5_factor)\n",
    "ME_OP_HML_5_factor = np.array(ME_OP_HML_5_factor)\n",
    "ME_OP_RMW_5_factor = np.array(ME_OP_RMW_5_factor)\n",
    "ME_OP_CMA_5_factor = np.array(ME_OP_CMA_5_factor)\n",
    "print(ME_OP_MKT_RF_5_factor)\n",
    "print(ME_OP_SMB_5_factor)\n",
    "print(ME_OP_HML_5_factor)\n",
    "print(ME_OP_RMW_5_factor)\n",
    "print(ME_OP_CMA_5_factor)"
   ]
  },
  {
   "cell_type": "code",
   "execution_count": 6,
   "metadata": {},
   "outputs": [
    {
     "name": "stdout",
     "output_type": "stream",
     "text": [
      "            CAPM_beta  FF_3_MKT  FF_3_SMB  FF_3_HML  FF_5_MKT  FF_5_SMB  \\\n",
      "SMALL LoOP   1.275576  1.002250  1.416185  0.098988  0.976345  1.250108   \n",
      "ME1 OP2      1.054719  0.905757  1.037653  0.444406  0.895011  1.083333   \n",
      "ME1 OP3      1.036453  0.919904  0.904211  0.483329  0.920468  0.989866   \n",
      "ME1 OP4      1.081699  0.942836  1.021801  0.494318  0.978214  1.127331   \n",
      "SMALL HiOP   1.274452  1.104063  1.076748  0.346526  1.091039  1.192897   \n",
      "ME2 OP1      1.340613  1.122695  1.070318 -0.007409  1.093405  0.914863   \n",
      "ME2 OP2      1.123378  1.012450  0.794614  0.363106  1.011129  0.840952   \n",
      "ME2 OP3      1.038849  0.941323  0.745325  0.387845  0.939812  0.817803   \n",
      "ME2 OP4      1.113761  1.007218  0.768313  0.356255  1.000131  0.882396   \n",
      "ME2 OP5      1.246447  1.123356  0.810415  0.298148  1.112621  0.982825   \n",
      "ME3 OP1      1.284159  1.113706  0.805999 -0.051615  1.067924  0.586577   \n",
      "ME3 OP2      1.042039  0.974880  0.547258  0.317032  0.974150  0.570296   \n",
      "ME3 OP3      1.034352  0.979277  0.486982  0.316083  0.975590  0.546173   \n",
      "ME3 OP4      1.092060  1.042041  0.463764  0.318626  1.042409  0.579832   \n",
      "ME3 OP5      1.195656  1.111246  0.559792  0.210405  1.106728  0.724288   \n",
      "ME4 OP1      1.221056  1.117004  0.503336 -0.014881  1.077769  0.281368   \n",
      "ME4 OP2      1.069436  1.041881  0.299617  0.240349  1.038312  0.251388   \n",
      "ME4 OP3      1.010974  1.007828  0.201773  0.273555  1.010281  0.255487   \n",
      "ME4 OP4      1.046568  1.052261  0.138620  0.244865  1.068873  0.253184   \n",
      "ME4 OP5      1.112992  1.055024  0.333681  0.069953  1.059146  0.439584   \n",
      "BIG LoOP     1.101772  1.118821 -0.050972  0.048706  1.063308 -0.286844   \n",
      "ME5 OP2      0.966208  1.021576 -0.139382  0.196590  1.023882 -0.212030   \n",
      "ME5 OP3      0.940845  1.004485 -0.231093  0.121837  1.007135 -0.252397   \n",
      "ME5 OP4      0.943879  0.981678 -0.225493 -0.057234  0.982933 -0.196939   \n",
      "BIG HiOP     0.926920  0.952389 -0.237767 -0.164624  0.968411 -0.142540   \n",
      "\n",
      "            FF_5_HML  FF_5_RMW  FF_5_CMA  \n",
      "SMALL LoOP -0.137826 -0.626182  0.104643  \n",
      "ME1 OP2     0.285020  0.135040 -0.024596  \n",
      "ME1 OP3     0.314502  0.274710  0.027846  \n",
      "ME1 OP4     0.170647  0.369528  0.326368  \n",
      "SMALL HiOP  0.203689  0.368451 -0.103733  \n",
      "ME2 OP1    -0.165891 -0.613781  0.047952  \n",
      "ME2 OP2     0.206947  0.117500  0.055882  \n",
      "ME2 OP3     0.254004  0.222599  0.011014  \n",
      "ME2 OP4     0.255241  0.376872 -0.089261  \n",
      "ME2 OP5     0.207305  0.543006 -0.147967  \n",
      "ME3 OP1    -0.089558 -0.788241 -0.108943  \n",
      "ME3 OP2     0.203396  0.040998  0.056654  \n",
      "ME3 OP3     0.237631  0.170198 -0.016625  \n",
      "ME3 OP4     0.241136  0.362080 -0.033260  \n",
      "ME3 OP5     0.148504  0.535500 -0.122866  \n",
      "ME4 OP1    -0.013274 -0.776783 -0.091576  \n",
      "ME4 OP2     0.174028 -0.192524  0.065422  \n",
      "ME4 OP3     0.225696  0.152142  0.017637  \n",
      "ME4 OP4     0.165394  0.359106  0.087220  \n",
      "ME4 OP5     0.003016  0.335101 -0.007471  \n",
      "BIG LoOP    0.234859 -0.797440 -0.309038  \n",
      "ME5 OP2     0.189758 -0.270580  0.096157  \n",
      "ME5 OP3     0.144155 -0.096586  0.042192  \n",
      "ME5 OP4    -0.003556  0.117552 -0.054566  \n",
      "BIG HiOP   -0.155002  0.340997  0.023048  \n"
     ]
    }
   ],
   "source": [
    "ME_OP_1ST_data = [ME_OP_CAPM, ME_OP_MKT_RF_3_factor, ME_OP_SMB_3_factor, ME_OP_HML_3_factor, ME_OP_MKT_RF_5_factor, ME_OP_SMB_5_factor, ME_OP_HML_5_factor, ME_OP_RMW_5_factor, ME_OP_CMA_5_factor]\n",
    "ME_OP_1ST = pd.DataFrame(ME_OP_1ST_data, index=[\"CAPM_beta\", \"FF_3_MKT\", \"FF_3_SMB\", \"FF_3_HML\", \"FF_5_MKT\", \"FF_5_SMB\", \"FF_5_HML\", \"FF_5_RMW\", \"FF_5_CMA\"], columns= ME_OP.columns).transpose()\n",
    "print(ME_OP_1ST)\n",
    "ME_OP_1ST.to_csv(\"ME_OP_Factor_Coefficients.csv\")"
   ]
  },
  {
   "cell_type": "markdown",
   "metadata": {},
   "source": [
    "### Second Stage Farma MacBeth Regression"
   ]
  },
  {
   "cell_type": "code",
   "execution_count": 28,
   "metadata": {},
   "outputs": [
    {
     "name": "stdout",
     "output_type": "stream",
     "text": [
      "0.12305064559979711\n",
      "0.5854084044475433\n",
      "0.006680142314189341\n"
     ]
    }
   ],
   "source": [
    "# Code for Macbeth second stage\n",
    "i = 0\n",
    "average_returns_portfolio = []\n",
    "while i < 25:\n",
    "    average_returns_portfolio.append(np.average(ME_OP.to_numpy()[:,i]-five_factors_data.to_numpy()[:,5]))\n",
    "    i += 1\n",
    "y = average_returns_portfolio\n",
    "X = pd.DataFrame(ME_OP_1ST_data, index=[\"CAPM_beta\", \"FF_3_MKT\", \"FF_3_SMB\", \"FF_3_HML\", \"FF_5_MKT\", \"FF_5_SMB\", \"FF_5_HML\", \"FF_5_RMW\", \"FF_5_CMA\"], columns= ME_OP.columns).values[0]\n",
    "X = X.reshape(-1, 1)\n",
    "\n",
    "reg = LinearRegression().fit(X, y)\n",
    "print(reg.coef_[0])\n",
    "print(reg.intercept_)\n",
    "print(reg.score(X, y))"
   ]
  },
  {
   "cell_type": "code",
   "execution_count": 29,
   "metadata": {},
   "outputs": [
    {
     "name": "stdout",
     "output_type": "stream",
     "text": [
      "                            OLS Regression Results                            \n",
      "==============================================================================\n",
      "Dep. Variable:                      y   R-squared:                       0.007\n",
      "Model:                            OLS   Adj. R-squared:                 -0.037\n",
      "Method:                 Least Squares   F-statistic:                    0.1547\n",
      "Date:                Wed, 20 Nov 2024   Prob (F-statistic):              0.698\n",
      "Time:                        03:55:53   Log-Likelihood:                 8.6215\n",
      "No. Observations:                  25   AIC:                            -13.24\n",
      "Df Residuals:                      23   BIC:                            -10.81\n",
      "Df Model:                           1                                         \n",
      "Covariance Type:            nonrobust                                         \n",
      "==============================================================================\n",
      "                 coef    std err          t      P>|t|      [0.025      0.975]\n",
      "------------------------------------------------------------------------------\n",
      "const          0.5854      0.347      1.687      0.105      -0.132       1.303\n",
      "x1             0.1231      0.313      0.393      0.698      -0.524       0.770\n",
      "==============================================================================\n",
      "Omnibus:                        1.292   Durbin-Watson:                   1.355\n",
      "Prob(Omnibus):                  0.524   Jarque-Bera (JB):                1.092\n",
      "Skew:                          -0.315   Prob(JB):                        0.579\n",
      "Kurtosis:                       2.193   Cond. No.                         19.5\n",
      "==============================================================================\n",
      "\n",
      "Notes:\n",
      "[1] Standard Errors assume that the covariance matrix of the errors is correctly specified.\n"
     ]
    }
   ],
   "source": [
    "import statsmodels.api as sm\n",
    "\n",
    "X = sm.add_constant(X)\n",
    "\n",
    "# Perform the regression\n",
    "model = sm.OLS(y, X)  # Ordinary Least Squares\n",
    "results = model.fit()\n",
    "\n",
    "# Print the summary\n",
    "print(results.summary())"
   ]
  },
  {
   "cell_type": "markdown",
   "metadata": {},
   "source": [
    "## 5 Portfolios Formed on Size and Investment (5 x 5)"
   ]
  }
 ],
 "metadata": {
  "kernelspec": {
   "display_name": "Python 3",
   "language": "python",
   "name": "python3"
  },
  "language_info": {
   "codemirror_mode": {
    "name": "ipython",
    "version": 3
   },
   "file_extension": ".py",
   "mimetype": "text/x-python",
   "name": "python",
   "nbconvert_exporter": "python",
   "pygments_lexer": "ipython3",
   "version": "3.10.12"
  }
 },
 "nbformat": 4,
 "nbformat_minor": 2
}
