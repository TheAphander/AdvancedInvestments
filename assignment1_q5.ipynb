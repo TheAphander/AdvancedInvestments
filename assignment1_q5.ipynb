{
 "cells": [
  {
   "cell_type": "markdown",
   "metadata": {},
   "source": [
    "# Farma MacBeth Regression\n",
    "## First Stage Farma MacBeth Regression\n",
    "### 5 Portfolios Formed on Size and Operating Profitability (5 x 5)"
   ]
  },
  {
   "cell_type": "code",
   "execution_count": null,
   "metadata": {},
   "outputs": [],
   "source": [
    "# Importing all datasets needed. They were pre-cleaned in excel. No missing values\n",
    "import pandas as pd\n",
    "import numpy as np\n",
    "from sklearn.linear_model import LinearRegression\n",
    "import statsmodels.api as sm\n",
    "\n",
    "ME_OP = pd.read_excel(\"ME OP Average Value Weighted Returns -- Monthly.xlsx\", index_col=0)\n",
    "ME_INV = pd.read_excel(\"ME INV Average Value Weighted Returns.xlsx\", index_col=0)\n",
    "three_factors_data = pd.read_csv(\"F-F_Research_Data_3_Factors.CSV\", index_col=0)\n",
    "five_factors_data = pd.read_csv(\"F-F_Research_Data_5_Factors.csv\", index_col=0)"
   ]
  },
  {
   "cell_type": "code",
   "execution_count": 3,
   "metadata": {},
   "outputs": [
    {
     "name": "stdout",
     "output_type": "stream",
     "text": [
      "[1.275576   1.05471862 1.03645332 1.08169891 1.27445166 1.34061284\n",
      " 1.12337764 1.0388495  1.11376125 1.24644727 1.28415896 1.04203872\n",
      " 1.0343522  1.09206004 1.19565643 1.22105619 1.06943625 1.01097371\n",
      " 1.0465677  1.11299183 1.10177177 0.96620794 0.94084475 0.94387948\n",
      " 0.92692022]\n"
     ]
    }
   ],
   "source": [
    "ME_OP_CAPM = []\n",
    "number = 0\n",
    "while number < 25:\n",
    "    y = ME_OP.to_numpy()[:,number]-three_factors_data.to_numpy()[:,3]\n",
    "    X = three_factors_data.to_numpy()[:,0]\n",
    "    X = X.reshape(-1, 1)\n",
    "    reg = LinearRegression().fit(X, y)\n",
    "    ME_OP_CAPM.append(reg.coef_[0])\n",
    "    number += 1\n",
    "\n",
    "ME_OP_CAPM = np.array(ME_OP_CAPM)\n",
    "print(ME_OP_CAPM)"
   ]
  },
  {
   "cell_type": "code",
   "execution_count": 4,
   "metadata": {},
   "outputs": [
    {
     "name": "stdout",
     "output_type": "stream",
     "text": [
      "[1.00224965 0.90575712 0.91990352 0.94283624 1.10406333 1.12269539\n",
      " 1.01245006 0.94132326 1.00721832 1.12335561 1.1137055  0.97488012\n",
      " 0.97927727 1.04204082 1.11124635 1.1170042  1.04188086 1.00782754\n",
      " 1.05226086 1.05502418 1.1188211  1.02157642 1.00448459 0.98167824\n",
      " 0.95238945]\n",
      "[ 1.4161852   1.03765332  0.90421077  1.0218008   1.07674798  1.07031774\n",
      "  0.79461426  0.7453253   0.768313    0.81041472  0.80599894  0.54725754\n",
      "  0.48698186  0.46376443  0.55979247  0.50333638  0.29961746  0.20177298\n",
      "  0.13861984  0.33368082 -0.05097243 -0.13938171 -0.23109337 -0.2254934\n",
      " -0.23776661]\n",
      "[ 0.09898842  0.4444059   0.48332877  0.4943184   0.34652573 -0.00740931\n",
      "  0.36310615  0.38784466  0.35625548  0.29814831 -0.05161511  0.31703235\n",
      "  0.31608337  0.31862595  0.21040474 -0.01488073  0.24034888  0.2735553\n",
      "  0.24486499  0.06995254  0.0487064   0.19658998  0.12183709 -0.0572336\n",
      " -0.16462448]\n"
     ]
    }
   ],
   "source": [
    "ME_OP_MKT_RF_3_factor = []\n",
    "ME_OP_SMB_3_factor = []\n",
    "ME_OP_HML_3_factor = []\n",
    "\n",
    "number = 0\n",
    "while number < 25:\n",
    "    y = ME_OP.to_numpy()[:,number]-three_factors_data.to_numpy()[:,3]\n",
    "    X = np.array([three_factors_data.to_numpy()[:,0],three_factors_data.to_numpy()[:,1], three_factors_data.to_numpy()[:,2]]).T\n",
    "    reg = LinearRegression().fit(X, y)\n",
    "    ME_OP_MKT_RF_3_factor.append(reg.coef_[0])\n",
    "    ME_OP_SMB_3_factor.append(reg.coef_[1])\n",
    "    ME_OP_HML_3_factor.append(reg.coef_[2])\n",
    "    number += 1\n",
    "\n",
    "ME_OP_MKT_RF_3_factor = np.array(ME_OP_MKT_RF_3_factor)\n",
    "ME_OP_SMB_3_factor = np.array(ME_OP_SMB_3_factor)\n",
    "ME_OP_HML_3_factor = np.array(ME_OP_HML_3_factor)\n",
    "print(ME_OP_MKT_RF_3_factor)\n",
    "print(ME_OP_SMB_3_factor)\n",
    "print(ME_OP_HML_3_factor)"
   ]
  },
  {
   "cell_type": "code",
   "execution_count": 5,
   "metadata": {},
   "outputs": [
    {
     "name": "stdout",
     "output_type": "stream",
     "text": [
      "[0.97634525 0.89501092 0.92046786 0.97821426 1.09103869 1.09340493\n",
      " 1.01112934 0.9398124  1.000131   1.11262118 1.06792417 0.97414959\n",
      " 0.9755897  1.04240916 1.10672838 1.07776874 1.03831218 1.01028071\n",
      " 1.06887306 1.0591457  1.06330813 1.02388206 1.0071346  0.98293265\n",
      " 0.96841109]\n",
      "[ 1.25010812  1.08333279  0.98986644  1.12733109  1.19289706  0.91486256\n",
      "  0.84095182  0.81780331  0.88239574  0.9828252   0.58657653  0.57029606\n",
      "  0.54617271  0.57983176  0.72428796  0.28136772  0.2513878   0.25548741\n",
      "  0.25318399  0.43958394 -0.28684446 -0.21203034 -0.25239731 -0.1969394\n",
      " -0.14254038]\n",
      "[-0.13782579  0.28502004  0.31450201  0.17064722  0.20368885 -0.16589051\n",
      "  0.20694703  0.25400352  0.25524124  0.207305   -0.08955821  0.20339563\n",
      "  0.23763119  0.24113635  0.14850351 -0.01327421  0.17402764  0.22569568\n",
      "  0.16539424  0.00301555  0.23485936  0.18975841  0.14415526 -0.00355569\n",
      " -0.15500192]\n",
      "[-0.62618151  0.13503953  0.27471032  0.36952835  0.36845056 -0.6137808\n",
      "  0.11750019  0.22259919  0.37687196  0.54300577 -0.78824112  0.04099836\n",
      "  0.17019813  0.36207952  0.53550034 -0.77678263 -0.19252434  0.1521415\n",
      "  0.35910634  0.33510055 -0.79744038 -0.27058033 -0.09658611  0.1175519\n",
      "  0.34099733]\n",
      "[ 0.10464327 -0.02459585  0.02784632  0.32636779 -0.10373262  0.0479523\n",
      "  0.05588226  0.01101397 -0.08926053 -0.14796732 -0.10894273  0.05665392\n",
      " -0.01662514 -0.03326047 -0.12286575 -0.09157556  0.06542226  0.01763686\n",
      "  0.08721969 -0.00747138 -0.30903814  0.09615655  0.04219159 -0.05456571\n",
      "  0.02304828]\n"
     ]
    }
   ],
   "source": [
    "ME_OP_MKT_RF_5_factor = []\n",
    "ME_OP_SMB_5_factor = []\n",
    "ME_OP_HML_5_factor = []\n",
    "ME_OP_RMW_5_factor = []\n",
    "ME_OP_CMA_5_factor = []\n",
    "\n",
    "\n",
    "number = 0\n",
    "while number < 25:\n",
    "    y = ME_OP.to_numpy()[:,number]-five_factors_data.to_numpy()[:,5]\n",
    "    X = np.array([five_factors_data.to_numpy()[:,0],five_factors_data.to_numpy()[:,1], five_factors_data.to_numpy()[:,2], five_factors_data.to_numpy()[:,3], five_factors_data.to_numpy()[:,4]]).T\n",
    "    reg = LinearRegression().fit(X, y)\n",
    "    ME_OP_MKT_RF_5_factor.append(reg.coef_[0])\n",
    "    ME_OP_SMB_5_factor.append(reg.coef_[1])\n",
    "    ME_OP_HML_5_factor.append(reg.coef_[2])\n",
    "    ME_OP_RMW_5_factor.append(reg.coef_[3])\n",
    "    ME_OP_CMA_5_factor.append(reg.coef_[4])\n",
    "    number += 1\n",
    "\n",
    "ME_OP_MKT_RF_5_factor = np.array(ME_OP_MKT_RF_5_factor)\n",
    "ME_OP_SMB_5_factor = np.array(ME_OP_SMB_5_factor)\n",
    "ME_OP_HML_5_factor = np.array(ME_OP_HML_5_factor)\n",
    "ME_OP_RMW_5_factor = np.array(ME_OP_RMW_5_factor)\n",
    "ME_OP_CMA_5_factor = np.array(ME_OP_CMA_5_factor)\n",
    "print(ME_OP_MKT_RF_5_factor)\n",
    "print(ME_OP_SMB_5_factor)\n",
    "print(ME_OP_HML_5_factor)\n",
    "print(ME_OP_RMW_5_factor)\n",
    "print(ME_OP_CMA_5_factor)"
   ]
  },
  {
   "cell_type": "code",
   "execution_count": 6,
   "metadata": {},
   "outputs": [
    {
     "name": "stdout",
     "output_type": "stream",
     "text": [
      "            CAPM_beta  FF_3_MKT  FF_3_SMB  FF_3_HML  FF_5_MKT  FF_5_SMB  \\\n",
      "SMALL LoOP   1.275576  1.002250  1.416185  0.098988  0.976345  1.250108   \n",
      "ME1 OP2      1.054719  0.905757  1.037653  0.444406  0.895011  1.083333   \n",
      "ME1 OP3      1.036453  0.919904  0.904211  0.483329  0.920468  0.989866   \n",
      "ME1 OP4      1.081699  0.942836  1.021801  0.494318  0.978214  1.127331   \n",
      "SMALL HiOP   1.274452  1.104063  1.076748  0.346526  1.091039  1.192897   \n",
      "ME2 OP1      1.340613  1.122695  1.070318 -0.007409  1.093405  0.914863   \n",
      "ME2 OP2      1.123378  1.012450  0.794614  0.363106  1.011129  0.840952   \n",
      "ME2 OP3      1.038849  0.941323  0.745325  0.387845  0.939812  0.817803   \n",
      "ME2 OP4      1.113761  1.007218  0.768313  0.356255  1.000131  0.882396   \n",
      "ME2 OP5      1.246447  1.123356  0.810415  0.298148  1.112621  0.982825   \n",
      "ME3 OP1      1.284159  1.113706  0.805999 -0.051615  1.067924  0.586577   \n",
      "ME3 OP2      1.042039  0.974880  0.547258  0.317032  0.974150  0.570296   \n",
      "ME3 OP3      1.034352  0.979277  0.486982  0.316083  0.975590  0.546173   \n",
      "ME3 OP4      1.092060  1.042041  0.463764  0.318626  1.042409  0.579832   \n",
      "ME3 OP5      1.195656  1.111246  0.559792  0.210405  1.106728  0.724288   \n",
      "ME4 OP1      1.221056  1.117004  0.503336 -0.014881  1.077769  0.281368   \n",
      "ME4 OP2      1.069436  1.041881  0.299617  0.240349  1.038312  0.251388   \n",
      "ME4 OP3      1.010974  1.007828  0.201773  0.273555  1.010281  0.255487   \n",
      "ME4 OP4      1.046568  1.052261  0.138620  0.244865  1.068873  0.253184   \n",
      "ME4 OP5      1.112992  1.055024  0.333681  0.069953  1.059146  0.439584   \n",
      "BIG LoOP     1.101772  1.118821 -0.050972  0.048706  1.063308 -0.286844   \n",
      "ME5 OP2      0.966208  1.021576 -0.139382  0.196590  1.023882 -0.212030   \n",
      "ME5 OP3      0.940845  1.004485 -0.231093  0.121837  1.007135 -0.252397   \n",
      "ME5 OP4      0.943879  0.981678 -0.225493 -0.057234  0.982933 -0.196939   \n",
      "BIG HiOP     0.926920  0.952389 -0.237767 -0.164624  0.968411 -0.142540   \n",
      "\n",
      "            FF_5_HML  FF_5_RMW  FF_5_CMA  \n",
      "SMALL LoOP -0.137826 -0.626182  0.104643  \n",
      "ME1 OP2     0.285020  0.135040 -0.024596  \n",
      "ME1 OP3     0.314502  0.274710  0.027846  \n",
      "ME1 OP4     0.170647  0.369528  0.326368  \n",
      "SMALL HiOP  0.203689  0.368451 -0.103733  \n",
      "ME2 OP1    -0.165891 -0.613781  0.047952  \n",
      "ME2 OP2     0.206947  0.117500  0.055882  \n",
      "ME2 OP3     0.254004  0.222599  0.011014  \n",
      "ME2 OP4     0.255241  0.376872 -0.089261  \n",
      "ME2 OP5     0.207305  0.543006 -0.147967  \n",
      "ME3 OP1    -0.089558 -0.788241 -0.108943  \n",
      "ME3 OP2     0.203396  0.040998  0.056654  \n",
      "ME3 OP3     0.237631  0.170198 -0.016625  \n",
      "ME3 OP4     0.241136  0.362080 -0.033260  \n",
      "ME3 OP5     0.148504  0.535500 -0.122866  \n",
      "ME4 OP1    -0.013274 -0.776783 -0.091576  \n",
      "ME4 OP2     0.174028 -0.192524  0.065422  \n",
      "ME4 OP3     0.225696  0.152142  0.017637  \n",
      "ME4 OP4     0.165394  0.359106  0.087220  \n",
      "ME4 OP5     0.003016  0.335101 -0.007471  \n",
      "BIG LoOP    0.234859 -0.797440 -0.309038  \n",
      "ME5 OP2     0.189758 -0.270580  0.096157  \n",
      "ME5 OP3     0.144155 -0.096586  0.042192  \n",
      "ME5 OP4    -0.003556  0.117552 -0.054566  \n",
      "BIG HiOP   -0.155002  0.340997  0.023048  \n"
     ]
    }
   ],
   "source": [
    "ME_OP_1ST_data = [ME_OP_CAPM, ME_OP_MKT_RF_3_factor, ME_OP_SMB_3_factor, ME_OP_HML_3_factor, ME_OP_MKT_RF_5_factor, ME_OP_SMB_5_factor, ME_OP_HML_5_factor, ME_OP_RMW_5_factor, ME_OP_CMA_5_factor]\n",
    "ME_OP_1ST = pd.DataFrame(ME_OP_1ST_data, index=[\"CAPM_beta\", \"FF_3_MKT\", \"FF_3_SMB\", \"FF_3_HML\", \"FF_5_MKT\", \"FF_5_SMB\", \"FF_5_HML\", \"FF_5_RMW\", \"FF_5_CMA\"], columns= ME_OP.columns).transpose()\n",
    "print(ME_OP_1ST)\n",
    "ME_OP_1ST.to_csv(\"ME_OP_Factor_Coefficients.csv\")"
   ]
  },
  {
   "cell_type": "markdown",
   "metadata": {},
   "source": [
    "### 5 Portfolios Formed on Size and Investment (5 x 5)"
   ]
  },
  {
   "cell_type": "code",
   "execution_count": 31,
   "metadata": {},
   "outputs": [
    {
     "name": "stdout",
     "output_type": "stream",
     "text": [
      "[1.2542867  1.04869352 1.03722156 1.09586896 1.31034545 1.2305561\n",
      " 1.04426639 1.02737876 1.1284222  1.369351   1.14727354 0.9919593\n",
      " 0.99212983 1.10529093 1.32343815 1.10483165 0.99863217 0.98932189\n",
      " 1.04818    1.29197816 0.91127437 0.83602809 0.88807848 0.95221055\n",
      " 1.14866445]\n"
     ]
    }
   ],
   "source": [
    "ME_INV_CAPM = []\n",
    "number = 0\n",
    "while number < 25:\n",
    "    y = ME_INV.to_numpy()[:,number]-three_factors_data.to_numpy()[:,3]\n",
    "    X = three_factors_data.to_numpy()[:,0]\n",
    "    X = X.reshape(-1, 1)\n",
    "    reg = LinearRegression().fit(X, y)\n",
    "    ME_INV_CAPM.append(reg.coef_[0])\n",
    "    number += 1\n",
    "\n",
    "ME_INV_CAPM = np.array(ME_INV_CAPM)\n",
    "print(ME_INV_CAPM)"
   ]
  },
  {
   "cell_type": "code",
   "execution_count": 32,
   "metadata": {},
   "outputs": [
    {
     "name": "stdout",
     "output_type": "stream",
     "text": [
      "[0.99830524 0.89949234 0.89138447 0.92697772 1.0584474  1.08869886\n",
      " 0.9624945  0.91783762 1.01526834 1.14724591 1.06944282 0.94617788\n",
      " 0.95089046 1.02161816 1.15419484 1.10765048 1.02043624 0.99610707\n",
      " 1.01424604 1.14846598 0.96628289 0.90594727 0.95190012 0.98696363\n",
      " 1.12770871]\n",
      "[ 1.46196242  1.02896708  0.99789381  1.06068424  1.2716439   0.97060335\n",
      "  0.71583533  0.80401989  0.79212575  1.0024221   0.65120683  0.52050929\n",
      "  0.44618075  0.56359667  0.73006817  0.2531872   0.16170883  0.18778089\n",
      "  0.26167056  0.5200416  -0.13005572 -0.21235565 -0.2258907  -0.23512625\n",
      " -0.15973897]\n",
      "[ 0.29194032  0.42991066  0.40865397  0.33378263  0.04200217  0.39741637\n",
      "  0.45871789  0.38696976  0.34331503 -0.13748454  0.39235878  0.43268675\n",
      "  0.35643572  0.22133627 -0.15436914  0.39230534  0.39554913  0.32498634\n",
      "  0.13838176 -0.27635157  0.20767878  0.19487113  0.13079631 -0.09345721\n",
      " -0.38650719]\n"
     ]
    }
   ],
   "source": [
    "ME_INV_MKT_RF_3_factor = []\n",
    "ME_INV_SMB_3_factor = []\n",
    "ME_INV_HML_3_factor = []\n",
    "\n",
    "number = 0\n",
    "while number < 25:\n",
    "    y = ME_INV.to_numpy()[:,number]-three_factors_data.to_numpy()[:,3]\n",
    "    X = np.array([three_factors_data.to_numpy()[:,0],three_factors_data.to_numpy()[:,1], three_factors_data.to_numpy()[:,2]]).T\n",
    "    reg = LinearRegression().fit(X, y)\n",
    "    ME_INV_MKT_RF_3_factor.append(reg.coef_[0])\n",
    "    ME_INV_SMB_3_factor.append(reg.coef_[1])\n",
    "    ME_INV_HML_3_factor.append(reg.coef_[2])\n",
    "    number += 1\n",
    "\n",
    "ME_INV_MKT_RF_3_factor = np.array(ME_INV_MKT_RF_3_factor)\n",
    "ME_INV_SMB_3_factor = np.array(ME_INV_SMB_3_factor)\n",
    "ME_INV_HML_3_factor = np.array(ME_INV_HML_3_factor)\n",
    "print(ME_INV_MKT_RF_3_factor)\n",
    "print(ME_INV_SMB_3_factor)\n",
    "print(ME_INV_HML_3_factor)"
   ]
  },
  {
   "cell_type": "code",
   "execution_count": 33,
   "metadata": {},
   "outputs": [
    {
     "name": "stdout",
     "output_type": "stream",
     "text": [
      "[1.01725839 0.90337532 0.89034919 0.91717448 1.00332134 1.11993377\n",
      " 0.97617151 0.92554668 0.99427463 1.08631333 1.08873085 0.96795973\n",
      " 0.96230673 1.00114562 1.09114836 1.15571016 1.04331655 1.00670207\n",
      " 1.0068302  1.09071055 1.05397873 0.96053882 0.96644731 0.97966643\n",
      " 1.06056588]\n",
      "[ 1.30976217  1.03187007  1.02401394  1.082768    1.21859964  0.92492302\n",
      "  0.77181675  0.84155257  0.85652264  0.96825673  0.63453963  0.55526122\n",
      "  0.50880908  0.60614099  0.70125679  0.261584    0.20363836  0.24312158\n",
      "  0.30220537  0.44849771 -0.11211491 -0.1959456  -0.17918052 -0.20011246\n",
      " -0.18428212]\n",
      "[-0.12428275  0.20243387  0.21513671  0.16169615 -0.01524786  0.04489362\n",
      "  0.2661684   0.19727052  0.28055118 -0.11168263  0.16397941  0.23476058\n",
      "  0.2295746   0.19908285 -0.05553927  0.12909564  0.26992978  0.25100078\n",
      "  0.12038322 -0.16579659 -0.12840029  0.0138365   0.11732407 -0.00350534\n",
      " -0.06476342]\n",
      "[-0.53876215 -0.00623645  0.07772562  0.05945846 -0.23682796 -0.20542925\n",
      "  0.17434834  0.11208476  0.19905918 -0.17188314 -0.09689313  0.0846616\n",
      "  0.198484    0.13092488 -0.12867996 -0.01474341  0.11841419  0.17157646\n",
      "  0.11939324 -0.26836543  0.05689485  0.05482493  0.1299075   0.13093091\n",
      " -0.0349052 ]\n",
      "[ 0.48562339  0.14948117  0.07389462  0.00505651 -0.29633761  0.47570645\n",
      "  0.1603831   0.12995294 -0.16363448 -0.39632647  0.29568015  0.2519776\n",
      "  0.1047065  -0.16587014 -0.46911314  0.50620897  0.21213312  0.07994146\n",
      " -0.06698433 -0.40432237  0.80029159  0.47885723  0.09446958 -0.13514258\n",
      " -0.66591112]\n"
     ]
    }
   ],
   "source": [
    "ME_INV_MKT_RF_5_factor = []\n",
    "ME_INV_SMB_5_factor = []\n",
    "ME_INV_HML_5_factor = []\n",
    "ME_INV_RMW_5_factor = []\n",
    "ME_INV_CMA_5_factor = []\n",
    "\n",
    "\n",
    "number = 0\n",
    "while number < 25:\n",
    "    y = ME_INV.to_numpy()[:,number]-five_factors_data.to_numpy()[:,5]\n",
    "    X = np.array([five_factors_data.to_numpy()[:,0],five_factors_data.to_numpy()[:,1], five_factors_data.to_numpy()[:,2], five_factors_data.to_numpy()[:,3], five_factors_data.to_numpy()[:,4]]).T\n",
    "    reg = LinearRegression().fit(X, y)\n",
    "    ME_INV_MKT_RF_5_factor.append(reg.coef_[0])\n",
    "    ME_INV_SMB_5_factor.append(reg.coef_[1])\n",
    "    ME_INV_HML_5_factor.append(reg.coef_[2])\n",
    "    ME_INV_RMW_5_factor.append(reg.coef_[3])\n",
    "    ME_INV_CMA_5_factor.append(reg.coef_[4])\n",
    "    number += 1\n",
    "\n",
    "ME_INV_MKT_RF_5_factor = np.array(ME_INV_MKT_RF_5_factor)\n",
    "ME_INV_SMB_5_factor = np.array(ME_INV_SMB_5_factor)\n",
    "ME_INV_HML_5_factor = np.array(ME_INV_HML_5_factor)\n",
    "ME_INV_RMW_5_factor = np.array(ME_INV_RMW_5_factor)\n",
    "ME_INV_CMA_5_factor = np.array(ME_INV_CMA_5_factor)\n",
    "print(ME_INV_MKT_RF_5_factor)\n",
    "print(ME_INV_SMB_5_factor)\n",
    "print(ME_INV_HML_5_factor)\n",
    "print(ME_INV_RMW_5_factor)\n",
    "print(ME_INV_CMA_5_factor)"
   ]
  },
  {
   "cell_type": "code",
   "execution_count": 34,
   "metadata": {},
   "outputs": [
    {
     "name": "stdout",
     "output_type": "stream",
     "text": [
      "             CAPM_beta  FF_3_MKT  FF_3_SMB  FF_3_HML  FF_5_MKT  FF_5_SMB  \\\n",
      "SMALL LoINV   1.254287  0.998305  1.461962  0.291940  1.017258  1.309762   \n",
      "ME1 INV2      1.048694  0.899492  1.028967  0.429911  0.903375  1.031870   \n",
      "ME1 INV3      1.037222  0.891384  0.997894  0.408654  0.890349  1.024014   \n",
      "ME1 INV4      1.095869  0.926978  1.060684  0.333783  0.917174  1.082768   \n",
      "SMALL HiINV   1.310345  1.058447  1.271644  0.042002  1.003321  1.218600   \n",
      "ME2 INV1      1.230556  1.088699  0.970603  0.397416  1.119934  0.924923   \n",
      "ME2 INV2      1.044266  0.962494  0.715835  0.458718  0.976172  0.771817   \n",
      "ME2 INV3      1.027379  0.917838  0.804020  0.386970  0.925547  0.841553   \n",
      "ME2 INV4      1.128422  1.015268  0.792126  0.343315  0.994275  0.856523   \n",
      "ME2 INV5      1.369351  1.147246  1.002422 -0.137485  1.086313  0.968257   \n",
      "ME3 INV1      1.147274  1.069443  0.651207  0.392359  1.088731  0.634540   \n",
      "ME3 INV2      0.991959  0.946178  0.520509  0.432687  0.967960  0.555261   \n",
      "ME3 INV3      0.992130  0.950890  0.446181  0.356436  0.962307  0.508809   \n",
      "ME3 INV4      1.105291  1.021618  0.563597  0.221336  1.001146  0.606141   \n",
      "ME3 INV5      1.323438  1.154195  0.730068 -0.154369  1.091148  0.701257   \n",
      "ME4 INV1      1.104832  1.107650  0.253187  0.392305  1.155710  0.261584   \n",
      "ME4 INV2      0.998632  1.020436  0.161709  0.395549  1.043317  0.203638   \n",
      "ME4 INV3      0.989322  0.996107  0.187781  0.324986  1.006702  0.243122   \n",
      "ME4 INV4      1.048180  1.014246  0.261671  0.138382  1.006830  0.302205   \n",
      "ME4 INV5      1.291978  1.148466  0.520042 -0.276352  1.090711  0.448498   \n",
      "BIG LoINV     0.911274  0.966283 -0.130056  0.207679  1.053979 -0.112115   \n",
      "ME5 INV2      0.836028  0.905947 -0.212356  0.194871  0.960539 -0.195946   \n",
      "ME5 INV3      0.888078  0.951900 -0.225891  0.130796  0.966447 -0.179181   \n",
      "ME5 INV4      0.952211  0.986964 -0.235126 -0.093457  0.979666 -0.200112   \n",
      "BIG HiINV     1.148664  1.127709 -0.159739 -0.386507  1.060566 -0.184282   \n",
      "\n",
      "             FF_5_HML  FF_5_RMW  FF_5_CMA  \n",
      "SMALL LoINV -0.124283 -0.538762  0.485623  \n",
      "ME1 INV2     0.202434 -0.006236  0.149481  \n",
      "ME1 INV3     0.215137  0.077726  0.073895  \n",
      "ME1 INV4     0.161696  0.059458  0.005057  \n",
      "SMALL HiINV -0.015248 -0.236828 -0.296338  \n",
      "ME2 INV1     0.044894 -0.205429  0.475706  \n",
      "ME2 INV2     0.266168  0.174348  0.160383  \n",
      "ME2 INV3     0.197271  0.112085  0.129953  \n",
      "ME2 INV4     0.280551  0.199059 -0.163634  \n",
      "ME2 INV5    -0.111683 -0.171883 -0.396326  \n",
      "ME3 INV1     0.163979 -0.096893  0.295680  \n",
      "ME3 INV2     0.234761  0.084662  0.251978  \n",
      "ME3 INV3     0.229575  0.198484  0.104706  \n",
      "ME3 INV4     0.199083  0.130925 -0.165870  \n",
      "ME3 INV5    -0.055539 -0.128680 -0.469113  \n",
      "ME4 INV1     0.129096 -0.014743  0.506209  \n",
      "ME4 INV2     0.269930  0.118414  0.212133  \n",
      "ME4 INV3     0.251001  0.171576  0.079941  \n",
      "ME4 INV4     0.120383  0.119393 -0.066984  \n",
      "ME4 INV5    -0.165797 -0.268365 -0.404322  \n",
      "BIG LoINV   -0.128400  0.056895  0.800292  \n",
      "ME5 INV2     0.013837  0.054825  0.478857  \n",
      "ME5 INV3     0.117324  0.129908  0.094470  \n",
      "ME5 INV4    -0.003505  0.130931 -0.135143  \n",
      "BIG HiINV   -0.064763 -0.034905 -0.665911  \n"
     ]
    }
   ],
   "source": [
    "ME_INV_1ST_data = [ME_INV_CAPM, ME_INV_MKT_RF_3_factor, ME_INV_SMB_3_factor, ME_INV_HML_3_factor, ME_INV_MKT_RF_5_factor, ME_INV_SMB_5_factor, ME_INV_HML_5_factor, ME_INV_RMW_5_factor, ME_INV_CMA_5_factor]\n",
    "ME_INV_1ST = pd.DataFrame(ME_INV_1ST_data, index=[\"CAPM_beta\", \"FF_3_MKT\", \"FF_3_SMB\", \"FF_3_HML\", \"FF_5_MKT\", \"FF_5_SMB\", \"FF_5_HML\", \"FF_5_RMW\", \"FF_5_CMA\"], columns= ME_INV.columns).transpose()\n",
    "print(ME_INV_1ST)\n",
    "ME_INV_1ST.to_csv(\"ME_INV_Factor_Coefficients.csv\")"
   ]
  },
  {
   "cell_type": "markdown",
   "metadata": {},
   "source": [
    "### Second Stage Farma MacBeth Regression"
   ]
  },
  {
   "cell_type": "code",
   "execution_count": 44,
   "metadata": {},
   "outputs": [
    {
     "name": "stdout",
     "output_type": "stream",
     "text": [
      "                            OLS Regression Results                            \n",
      "==============================================================================\n",
      "Dep. Variable:                      y   R-squared:                       0.004\n",
      "Model:                            OLS   Adj. R-squared:                 -0.017\n",
      "Method:                 Least Squares   F-statistic:                    0.1839\n",
      "Date:                Wed, 20 Nov 2024   Prob (F-statistic):              0.670\n",
      "Time:                        04:18:58   Log-Likelihood:                 17.351\n",
      "No. Observations:                  50   AIC:                            -30.70\n",
      "Df Residuals:                      48   BIC:                            -26.88\n",
      "Df Model:                           1                                         \n",
      "Covariance Type:            nonrobust                                         \n",
      "==============================================================================\n",
      "                 coef    std err          t      P>|t|      [0.025      0.975]\n",
      "------------------------------------------------------------------------------\n",
      "const          0.8270      0.214      3.864      0.000       0.397       1.257\n",
      "x1            -0.0831      0.194     -0.429      0.670      -0.473       0.307\n",
      "==============================================================================\n",
      "Omnibus:                        4.351   Durbin-Watson:                   1.351\n",
      "Prob(Omnibus):                  0.114   Jarque-Bera (JB):                2.573\n",
      "Skew:                          -0.339   Prob(JB):                        0.276\n",
      "Kurtosis:                       2.119   Cond. No.                         17.4\n",
      "==============================================================================\n",
      "\n",
      "Notes:\n",
      "[1] Standard Errors assume that the covariance matrix of the errors is correctly specified.\n"
     ]
    }
   ],
   "source": [
    "# Code for Macbeth second stage\n",
    "i = 0\n",
    "average_returns_portfolio = []\n",
    "while i < 25:\n",
    "    average_returns_portfolio.append(np.average(ME_OP.to_numpy()[:,i]-five_factors_data.to_numpy()[:,5]))\n",
    "    i += 1\n",
    "i = 0\n",
    "while i < 25:\n",
    "    average_returns_portfolio.append(np.average(ME_INV.to_numpy()[:,i]-five_factors_data.to_numpy()[:,5]))\n",
    "    i += 1\n",
    "y = average_returns_portfolio\n",
    "X = np.concatenate((ME_OP_CAPM, ME_INV_CAPM))\n",
    "X = X.reshape(-1, 1)\n",
    "\n",
    "X = sm.add_constant(X)\n",
    "\n",
    "model = sm.OLS(y, X) \n",
    "results = model.fit()\n",
    "\n",
    "# Print the summary\n",
    "print(results.summary())"
   ]
  },
  {
   "cell_type": "code",
   "execution_count": 42,
   "metadata": {},
   "outputs": [
    {
     "name": "stdout",
     "output_type": "stream",
     "text": [
      "Shape of ME_OP_CAPM: (25,)\n",
      "Shape of ME_INV_CAPM: (25,)\n"
     ]
    }
   ],
   "source": [
    "print(\"Shape of ME_OP_CAPM:\", ME_OP_CAPM.shape)\n",
    "print(\"Shape of ME_INV_CAPM:\", ME_INV_CAPM.shape)"
   ]
  }
 ],
 "metadata": {
  "kernelspec": {
   "display_name": "Python 3",
   "language": "python",
   "name": "python3"
  },
  "language_info": {
   "codemirror_mode": {
    "name": "ipython",
    "version": 3
   },
   "file_extension": ".py",
   "mimetype": "text/x-python",
   "name": "python",
   "nbconvert_exporter": "python",
   "pygments_lexer": "ipython3",
   "version": "3.10.12"
  }
 },
 "nbformat": 4,
 "nbformat_minor": 2
}
